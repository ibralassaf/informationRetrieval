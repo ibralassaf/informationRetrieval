{
 "cells": [
  {
   "cell_type": "markdown",
   "source": [
    "# Do you remember what do we mean by tokenization? \r\n",
    "Tokenization is the process of breaking down text document\r\n",
    "apart into those pieces"
   ],
   "metadata": {}
  },
  {
   "cell_type": "code",
   "execution_count": null,
   "source": [
    "pip install nltk"
   ],
   "outputs": [],
   "metadata": {}
  },
  {
   "cell_type": "code",
   "execution_count": null,
   "source": [
    "print(nltk.__version__)"
   ],
   "outputs": [],
   "metadata": {}
  },
  {
   "cell_type": "code",
   "execution_count": 11,
   "source": [
    "text=\" Welcome readers. I hope you find it interesting. Please do reply.\" "
   ],
   "outputs": [],
   "metadata": {}
  },
  {
   "cell_type": "code",
   "execution_count": 10,
   "source": [
    "from nltk.tokenize import sent_tokenize"
   ],
   "outputs": [],
   "metadata": {}
  },
  {
   "cell_type": "code",
   "execution_count": 20,
   "source": [
    "import nltk\r\n",
    "text = \"\"\"Welcome readers. I hope you find it interesting. Please do reply.\"\"\"\r\n",
    "from nltk.tokenize import sent_tokenize\r\n",
    "sent_tokenize(text)\r\n"
   ],
   "outputs": [
    {
     "output_type": "execute_result",
     "data": {
      "text/plain": [
       "['Welcome readers.', 'I hope you find it interesting.', 'Please do reply.']"
      ]
     },
     "metadata": {},
     "execution_count": 20
    }
   ],
   "metadata": {}
  },
  {
   "cell_type": "code",
   "execution_count": 18,
   "source": [
    "import nltk\r\n",
    "nltk.download('punkt')"
   ],
   "outputs": [
    {
     "output_type": "stream",
     "name": "stderr",
     "text": [
      "[nltk_data] Downloading package punkt to\n",
      "[nltk_data]     C:\\Users\\Ibrahim\\AppData\\Roaming\\nltk_data...\n",
      "[nltk_data]   Unzipping tokenizers\\punkt.zip.\n"
     ]
    },
    {
     "output_type": "execute_result",
     "data": {
      "text/plain": [
       "True"
      ]
     },
     "metadata": {},
     "execution_count": 18
    }
   ],
   "metadata": {}
  },
  {
   "cell_type": "markdown",
   "source": [
    "How many sentence you had? 3\r\n",
    "How many sentence will we have if we replace full stop “.”\r\n",
    "With “,” in text? only 1"
   ],
   "metadata": {}
  },
  {
   "cell_type": "code",
   "execution_count": null,
   "source": [
    "import nltk\r\n",
    "tokenizer = nltk.data.load(\"tokenizers/punkt/english.pickle/Arabic.pickle\")\r\n"
   ],
   "outputs": [],
   "metadata": {}
  },
  {
   "cell_type": "code",
   "execution_count": 32,
   "source": [
    "text=\"\"\" Hello everyone. Hope all are fine and doing well. Hope you find the book interesting.\"\"\"\r\n",
    "\r\n",
    "tokenizer.tokenize(text)"
   ],
   "outputs": [
    {
     "output_type": "execute_result",
     "data": {
      "text/plain": [
       "[' Hello everyone.',\n",
       " 'Hope all are fine and doing well.',\n",
       " 'Hope you find the book interesting.']"
      ]
     },
     "metadata": {},
     "execution_count": 32
    }
   ],
   "metadata": {}
  },
  {
   "cell_type": "code",
   "execution_count": 34,
   "source": [
    "text=\"\"\" مرحبا بالجميع. اتمنى ان يكون الجميع بخير و بخير أتمنى أن تجد الكتاب ممتعًا.\"\"\"\r\n",
    "\r\n",
    "tokenizer.tokenize(text)"
   ],
   "outputs": [
    {
     "output_type": "execute_result",
     "data": {
      "text/plain": [
       "[' مرحبا بالجميع.',\n",
       " 'اتمنى ان يكون الجميع بخير و بخير أتمنى أن تجد الكتاب ممتعًا.']"
      ]
     },
     "metadata": {},
     "execution_count": 34
    }
   ],
   "metadata": {}
  },
  {
   "cell_type": "markdown",
   "source": [
    "سؤال تشالنج : نص فيه فول ستوب اريد ان اقسم التيسكت الى مجموعه سينتس بدون لايبرري او فنكشن تشالنج"
   ],
   "metadata": {}
  },
  {
   "cell_type": "code",
   "execution_count": 37,
   "source": [
    "text=\"\"\" مرحبا بكم. نحن نتعلم اساسيات مبادئ استرجاع المعلومات.\"\"\"\r\n",
    "\r\n",
    "tokenizer.tokenize(text)"
   ],
   "outputs": [
    {
     "output_type": "execute_result",
     "data": {
      "text/plain": [
       "[' مرحبا بكم.', 'نحن نتعلم اساسيات مبادئ استرجاع المعلومات.']"
      ]
     },
     "metadata": {},
     "execution_count": 37
    }
   ],
   "metadata": {}
  },
  {
   "cell_type": "code",
   "execution_count": 45,
   "source": [
    "from nltk.tokenize import word_tokenize\r\n",
    "\r\n",
    "text = nltk.word_tokenize(\"Welcome readers. I hope you find it interesting. Please do reply..»\") \r\n",
    "print(text)\r\n"
   ],
   "outputs": [
    {
     "output_type": "stream",
     "name": "stdout",
     "text": [
      "['Welcome', 'readers', '.', 'I', 'hope', 'you', 'find', 'it', 'interesting', '.', 'Please', 'do', 'reply', '..', '»']\n"
     ]
    }
   ],
   "metadata": {}
  },
  {
   "cell_type": "code",
   "execution_count": 52,
   "source": [
    "text = input('Enter text') \r\n",
    "tokenizer.tokenize(text)"
   ],
   "outputs": [
    {
     "output_type": "execute_result",
     "data": {
      "text/plain": [
       "['hello word.']"
      ]
     },
     "metadata": {},
     "execution_count": 52
    }
   ],
   "metadata": {}
  },
  {
   "cell_type": "code",
   "execution_count": 55,
   "source": [
    "import nltk\r\n",
    "from nltk.tokenize import TreebankWordTokenizer\r\n",
    "tokenizer = TreebankWordTokenizer()\r\n",
    "tokenizer.tokenize(\"Have a nice day. You do great!\")"
   ],
   "outputs": [
    {
     "output_type": "execute_result",
     "data": {
      "text/plain": [
       "['Have', 'a', 'nice', 'day.', 'You', 'do', 'great', '!', 'do', \"n't\"]"
      ]
     },
     "metadata": {},
     "execution_count": 55
    }
   ],
   "metadata": {}
  },
  {
   "cell_type": "code",
   "execution_count": 11,
   "source": [
    "from nltk.tokenize  import RegexpTokenizer\r\n",
    "#This expression \"\\S+@[^\\s.]+\\.[a-zA-Z]+\" is for text looking like email and \"|\" = or & \"\\w+\" = 1 or more word chars\r\n",
    "email_text = '\\S+@[^\\s.]+\\.[a-zA-Z]+|\\w+'\r\n",
    "tokenizer=RegexpTokenizer(email_text)\r\n",
    "tokenizer.tokenize(\"Don't hesitate to ask questions or send to me your question to mohsarem@gmail.com\") \r\n",
    "\r\n"
   ],
   "outputs": [
    {
     "output_type": "execute_result",
     "data": {
      "text/plain": [
       "['Don',\n",
       " 't',\n",
       " 'hesitate',\n",
       " 'to',\n",
       " 'ask',\n",
       " 'questions',\n",
       " 'or',\n",
       " 'send',\n",
       " 'to',\n",
       " 'me',\n",
       " 'your',\n",
       " 'question',\n",
       " 'to',\n",
       " 'mohsarem@gmail.com']"
      ]
     },
     "metadata": {},
     "execution_count": 11
    }
   ],
   "metadata": {}
  },
  {
   "cell_type": "markdown",
   "source": [
    "# Normalization"
   ],
   "metadata": {}
  },
  {
   "cell_type": "code",
   "execution_count": 19,
   "source": [
    "text=[\" It is a pleasant evening.\",\"Guests, who came from US arrived at the venue\",\"Food was tasty.\"] \r\n",
    "import nltk\r\n",
    "from nltk.tokenize import word_tokenize \r\n",
    "tokenized_docs=[word_tokenize(doc) for doc in text] \r\n",
    "print(tokenized_docs) "
   ],
   "outputs": [
    {
     "output_type": "stream",
     "name": "stdout",
     "text": [
      "[['It', 'is', 'a', 'pleasant', 'evening', '.'], ['Guests', ',', 'who', 'came', 'from', 'US', 'arrived', 'at', 'the', 'venue'], ['Food', 'was', 'tasty', '.']]\n"
     ]
    }
   ],
   "metadata": {}
  },
  {
   "cell_type": "markdown",
   "source": [
    "The preceding code obtains the tokenized text. The following code will remove \r\n",
    "punctuation from tokenized text :"
   ],
   "metadata": {}
  },
  {
   "cell_type": "code",
   "execution_count": 20,
   "source": [
    "import re \r\n",
    "import string \r\n",
    "x=re.compile('[%s]' % re.escape(string.punctuation)) \r\n",
    "tokenized_docs_no_punctuation = [] \r\n",
    "for review in tokenized_docs: \r\n",
    "   new_review = [] \r\n",
    "   for token in review: \r\n",
    "       new_token = x.sub(u'', token) \r\n",
    "       if not new_token == u'': \r\n",
    "          new_review.append(new_token) \r\n",
    "   tokenized_docs_no_punctuation.append(new_review) \r\n",
    "print(tokenized_docs_no_punctuation) "
   ],
   "outputs": [
    {
     "output_type": "stream",
     "name": "stdout",
     "text": [
      "[['It', 'is', 'a', 'pleasant', 'evening'], ['Guests', 'who', 'came', 'from', 'US', 'arrived', 'at', 'the', 'venue'], ['Food', 'was', 'tasty']]\n"
     ]
    }
   ],
   "metadata": {}
  },
  {
   "cell_type": "markdown",
   "source": [
    "# Exercise 5. What is the role of re.compile(),re.escape() functions?"
   ],
   "metadata": {}
  },
  {
   "cell_type": "markdown",
   "source": [
    "re.compile: Compile a regular expression pattern into a regular expression object so we can use it in pattren matching\r\n",
    "<br>\r\n",
    "re.escape: escape special characters in pattern"
   ],
   "metadata": {}
  },
  {
   "cell_type": "markdown",
   "source": [
    "# Exercise 6. Apply lower () function and upper() function"
   ],
   "metadata": {}
  },
  {
   "cell_type": "code",
   "execution_count": 25,
   "source": [
    "import nltk\r\n",
    "Text= 'NLTK allows you to convert Text into Lowercase and uppercase'\r\n",
    "\r\n",
    "lower_text = Text.lower()\r\n",
    "print(lower_text)\r\n",
    "\r\n",
    "upper_text = Text.upper()\r\n",
    "print(upper_text)"
   ],
   "outputs": [
    {
     "output_type": "stream",
     "name": "stdout",
     "text": [
      "nltk allows you to convert text into lowercase and uppercase\n",
      "NLTK ALLOWS YOU TO CONVERT TEXT INTO LOWERCASE AND UPPERCASE\n"
     ]
    }
   ],
   "metadata": {}
  },
  {
   "cell_type": "markdown",
   "source": [
    "# Dealing with stop words\r\n"
   ],
   "metadata": {}
  },
  {
   "cell_type": "code",
   "execution_count": 29,
   "source": [
    "import nltk \r\n",
    "nltk.download('stopwords') \r\n",
    "from nltk.corpus import stopwords \r\n",
    "stops=set(stopwords.words('english')) \r\n",
    "words=[\"Don't\",'hesitate','to','ask','questions'] \r\n",
    "[word for word in words if word not in stops] \r\n"
   ],
   "outputs": [
    {
     "output_type": "stream",
     "name": "stderr",
     "text": [
      "[nltk_data] Downloading package stopwords to\n",
      "[nltk_data]     C:\\Users\\Ibrahim\\AppData\\Roaming\\nltk_data...\n",
      "[nltk_data]   Package stopwords is already up-to-date!\n"
     ]
    },
    {
     "output_type": "execute_result",
     "data": {
      "text/plain": [
       "[\"Don't\", 'hesitate', 'ask', 'questions']"
      ]
     },
     "metadata": {},
     "execution_count": 29
    }
   ],
   "metadata": {}
  },
  {
   "cell_type": "markdown",
   "source": [
    "# Exercise 7. Tokenize and remove stop words from the sentence "
   ],
   "metadata": {}
  },
  {
   "cell_type": "code",
   "execution_count": 33,
   "source": [
    "Text= \"NLTK allows you to convert Text into Lowercase and uppercase. Don't hesitate to ask questions\" \r\n",
    "text_tokens = word_tokenize(Text)\r\n",
    "tokenezied = [word for word in text_tokens if not word in stopwords.words()]\r\n",
    "\r\n",
    "print(tokenezied)\r\n"
   ],
   "outputs": [
    {
     "output_type": "stream",
     "name": "stdout",
     "text": [
      "['NLTK', 'allows', 'convert', 'Text', 'Lowercase', 'uppercase', '.', 'Do', \"n't\", 'hesitate', 'ask', 'questions']\n"
     ]
    }
   ],
   "metadata": {}
  },
  {
   "cell_type": "markdown",
   "source": [],
   "metadata": {}
  }
 ],
 "metadata": {
  "orig_nbformat": 4,
  "language_info": {
   "name": "python",
   "version": "3.8.8",
   "mimetype": "text/x-python",
   "codemirror_mode": {
    "name": "ipython",
    "version": 3
   },
   "pygments_lexer": "ipython3",
   "nbconvert_exporter": "python",
   "file_extension": ".py"
  },
  "kernelspec": {
   "name": "python3",
   "display_name": "Python 3.8.8 64-bit ('base': conda)"
  },
  "interpreter": {
   "hash": "ca6373b9b166d3015c88dcbfbb8a8050c882ec00cdf00c59953f1835a475a5ba"
  }
 },
 "nbformat": 4,
 "nbformat_minor": 2
}