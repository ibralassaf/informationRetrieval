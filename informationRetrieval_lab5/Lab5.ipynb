{
 "cells": [
  {
   "cell_type": "markdown",
   "metadata": {},
   "source": [
    "# Lab5\n",
    "_Similaty measures_"
   ]
  },
  {
   "cell_type": "markdown",
   "metadata": {},
   "source": [
    "# Exercise 1\n",
    "For the given sentences, apply confusion_report\n",
    "to get similarity between sentences. Write your code below\n",
    "and the outputs. \n"
   ]
  },
  {
   "cell_type": "code",
   "execution_count": 3,
   "metadata": {},
   "outputs": [
    {
     "name": "stdout",
     "output_type": "stream",
     "text": [
      "0.5555555555555556\n",
      "['There', 'are', 'many', 'similarity', 'measures', 'used', 'in', 'NLTK', 'package']\n"
     ]
    }
   ],
   "source": [
    "from __future__ import print_function\n",
    "from nltk.metrics import *\n",
    "Sentence1= 'There are many similarity measures used in NLTK package'.split()\n",
    "Sentence2 = 'There are many similarity measures are available in NLTK'.split()\n",
    "print(accuracy(Sentence1,Sentence2))\n",
    "print(Sentence1)"
   ]
  },
  {
   "cell_type": "code",
   "execution_count": 4,
   "metadata": {},
   "outputs": [
    {
     "name": "stdout",
     "output_type": "stream",
     "text": [
      "0.875\n"
     ]
    }
   ],
   "source": [
    "#How many ones and zeros\n",
    "print(precision(set(Sentence1),set(Sentence2)))"
   ]
  },
  {
   "cell_type": "code",
   "execution_count": 5,
   "metadata": {},
   "outputs": [
    {
     "name": "stdout",
     "output_type": "stream",
     "text": [
      "0.7777777777777778\n"
     ]
    }
   ],
   "source": [
    "print(recall(set(Sentence1),set(Sentence2)))"
   ]
  },
  {
   "cell_type": "markdown",
   "metadata": {},
   "source": [
    "# Exercise 2\n",
    "In NLP, the standard scores retrieved from information retrieval can be Accuracy,\n",
    "Recall, Precision, and F-score. To apply them on the sentences above, do the following: \n"
   ]
  },
  {
   "cell_type": "code",
   "execution_count": null,
   "metadata": {},
   "outputs": [],
   "source": [
    "pip install sklearn"
   ]
  },
  {
   "cell_type": "code",
   "execution_count": 8,
   "metadata": {},
   "outputs": [
    {
     "name": "stdout",
     "output_type": "stream",
     "text": [
      "              precision    recall  f1-score   support\n",
      "\n",
      "        NLTK       0.00      0.00      0.00         1\n",
      "       There       1.00      1.00      1.00         1\n",
      "         are       0.50      1.00      0.67         1\n",
      "   available       0.00      0.00      0.00         0\n",
      "          in       0.00      0.00      0.00         1\n",
      "        many       1.00      1.00      1.00         1\n",
      "    measures       1.00      1.00      1.00         1\n",
      "     package       0.00      0.00      0.00         1\n",
      "  similarity       1.00      1.00      1.00         1\n",
      "        used       0.00      0.00      0.00         1\n",
      "\n",
      "    accuracy                           0.56         9\n",
      "   macro avg       0.45      0.50      0.47         9\n",
      "weighted avg       0.50      0.56      0.52         9\n",
      "\n"
     ]
    },
    {
     "name": "stderr",
     "output_type": "stream",
     "text": [
      "C:\\Users\\Ibrahim\\AppData\\Local\\Programs\\Python\\Python39\\lib\\site-packages\\sklearn\\metrics\\_classification.py:1308: UndefinedMetricWarning: Precision and F-score are ill-defined and being set to 0.0 in labels with no predicted samples. Use `zero_division` parameter to control this behavior.\n",
      "  _warn_prf(average, modifier, msg_start, len(result))\n",
      "C:\\Users\\Ibrahim\\AppData\\Local\\Programs\\Python\\Python39\\lib\\site-packages\\sklearn\\metrics\\_classification.py:1308: UndefinedMetricWarning: Recall and F-score are ill-defined and being set to 0.0 in labels with no true samples. Use `zero_division` parameter to control this behavior.\n",
      "  _warn_prf(average, modifier, msg_start, len(result))\n",
      "C:\\Users\\Ibrahim\\AppData\\Local\\Programs\\Python\\Python39\\lib\\site-packages\\sklearn\\metrics\\_classification.py:1308: UndefinedMetricWarning: Precision and F-score are ill-defined and being set to 0.0 in labels with no predicted samples. Use `zero_division` parameter to control this behavior.\n",
      "  _warn_prf(average, modifier, msg_start, len(result))\n",
      "C:\\Users\\Ibrahim\\AppData\\Local\\Programs\\Python\\Python39\\lib\\site-packages\\sklearn\\metrics\\_classification.py:1308: UndefinedMetricWarning: Recall and F-score are ill-defined and being set to 0.0 in labels with no true samples. Use `zero_division` parameter to control this behavior.\n",
      "  _warn_prf(average, modifier, msg_start, len(result))\n",
      "C:\\Users\\Ibrahim\\AppData\\Local\\Programs\\Python\\Python39\\lib\\site-packages\\sklearn\\metrics\\_classification.py:1308: UndefinedMetricWarning: Precision and F-score are ill-defined and being set to 0.0 in labels with no predicted samples. Use `zero_division` parameter to control this behavior.\n",
      "  _warn_prf(average, modifier, msg_start, len(result))\n",
      "C:\\Users\\Ibrahim\\AppData\\Local\\Programs\\Python\\Python39\\lib\\site-packages\\sklearn\\metrics\\_classification.py:1308: UndefinedMetricWarning: Recall and F-score are ill-defined and being set to 0.0 in labels with no true samples. Use `zero_division` parameter to control this behavior.\n",
      "  _warn_prf(average, modifier, msg_start, len(result))\n"
     ]
    }
   ],
   "source": [
    "from sklearn.metrics import confusion_matrix, classification_report\n",
    "print(classification_report(Sentence1,Sentence2))"
   ]
  },
  {
   "cell_type": "code",
   "execution_count": null,
   "metadata": {},
   "outputs": [],
   "source": [
    "pip install seaborn"
   ]
  },
  {
   "cell_type": "code",
   "execution_count": 11,
   "metadata": {},
   "outputs": [],
   "source": [
    "import seaborn as sn\n",
    "import pandas as pd\n",
    "import matplotlib.pyplot as plt\n",
    "from sklearn.metrics import confusion_matrix "
   ]
  },
  {
   "cell_type": "code",
   "execution_count": 14,
   "metadata": {},
   "outputs": [
    {
     "data": {
      "text/plain": [
       "<AxesSubplot:>"
      ]
     },
     "execution_count": 14,
     "metadata": {},
     "output_type": "execute_result"
    },
    {
     "data": {
      "image/png": "[encoded data removed]",
      "text/plain": [
       "<Figure size 360x432 with 2 Axes>"
      ]
     },
     "metadata": {
      "needs_background": "light"
     },
     "output_type": "display_data"
    }
   ],
   "source": [
    "array = confusion_matrix(Sentence1,Sentence2)\n",
    "setA = set(Sentence1)\n",
    "setB = set(Sentence2)\n",
    "\n",
    "dictionary = setA.union(setB)\n",
    "df_cm = pd.DataFrame(array,index= dictionary,columns=dictionary) \n",
    "\n",
    "plt.figure(figsize = (5,6))\n",
    "sn.heatmap(df_cm, annot=True, annot_kws={\"size\": 16})"
   ]
  },
  {
   "cell_type": "code",
   "execution_count": 15,
   "metadata": {},
   "outputs": [
    {
     "data": {
      "text/plain": [
       "0"
      ]
     },
     "execution_count": 15,
     "metadata": {},
     "output_type": "execute_result"
    }
   ],
   "source": [
    "from __future__ import print_function\n",
    "def _edit_dist_init(len1, len2):\n",
    "  lev = []\n",
    "  for i in range(len1):\n",
    "    lev.append([0] * len2) # initialize 2D array to zero\n",
    "  for i in range(len1):\n",
    "    lev[i][0] = i # column 0: 0,1,2,3,4,...\n",
    "  for j in range(len2):\n",
    "    lev[0][j] = j # row 0: 0,1,2,3,4,...\n",
    "  return lev\n",
    "\n",
    "def _edit_dist_step(lev,i,j,s1,s2,transpositions=False):\n",
    "  c1 =s1[i-1]\n",
    "  c2 =s2[j-1]\n",
    "   # skipping a character in s1\n",
    "  a =lev[i-1][j] +1\n",
    "  # skipping a character in s2\n",
    "  b =lev[i][j -1]+1\n",
    "  # substitution\n",
    "  c =lev[i-1][j-1]+(c1!=c2)\n",
    "  # transposition\n",
    "  d =c+1 # never picked by default\n",
    "  if transpositions and i>1 and j>1:\n",
    "    if s1[i -2]==c2 and s2[j -2]==c1:\n",
    "      d =lev[i-2][j-2]+1\n",
    "      # pick the cheapest\n",
    "    lev[i][j] =min(a,b,c,d)\n",
    "\n",
    "\n",
    "def edit_distance(s1, s2, transpositions=False):\n",
    "  # set up a 2-D array\n",
    "  len1 = len(s1)\n",
    "  len2 = len(s2)\n",
    "  lev = _edit_dist_init(len1 + 1, len2 + 1)\n",
    "  # iterate over the array\n",
    "  for i in range(len1):\n",
    "    for j in range(len2):\n",
    "      _edit_dist_step(lev, i + 1, j + 1, s1, s2,transpositions=transpositions)\n",
    "  return lev[len1][len2]\n",
    "\n",
    "edit_distance(\"relate\",\"relation\")"
   ]
  },
  {
   "cell_type": "code",
   "execution_count": null,
   "metadata": {},
   "outputs": [],
   "source": []
  }
 ],
 "metadata": {
  "interpreter": {
   "hash": "53b614374e0b42b979a587b50c1889e693f4da8cea65821628dc2c85a5d09888"
  },
  "kernelspec": {
   "display_name": "Python 3.9.1 64-bit",
   "name": "python3"
  },
  "language_info": {
   "codemirror_mode": {
    "name": "ipython",
    "version": 3
   },
   "file_extension": ".py",
   "mimetype": "text/x-python",
   "name": "python",
   "nbconvert_exporter": "python",
   "pygments_lexer": "ipython3",
   "version": "3.9.1"
  },
  "orig_nbformat": 4
 },
 "nbformat": 4,
 "nbformat_minor": 2
}
