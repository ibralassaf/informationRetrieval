{
 "cells": [
  {
   "cell_type": "markdown",
   "source": [
    "# Exercise 1\r\n"
   ],
   "metadata": {}
  },
  {
   "cell_type": "code",
   "execution_count": 1,
   "source": [
    "import re\r\n",
    "sentence = 'Regular expression is a sequence of character(s) mainly used to find and replace patterns in a string or file'\r\n",
    "start_word = 'Regular'\r\n",
    "end_word = 'file'\r\n",
    "x = re.search(\"^\" + start_word + \".*file$\", sentence)\r\n",
    "\r\n",
    "if x:\r\n",
    "    print(\"YES! We have a match! \")\r\n",
    "else:\r\n",
    "    print(\"No match\")\r\n"
   ],
   "outputs": [
    {
     "output_type": "stream",
     "name": "stdout",
     "text": [
      "YES! We have a match! \n"
     ]
    }
   ],
   "metadata": {}
  },
  {
   "cell_type": "markdown",
   "source": [
    "# Exercise 2\r\n"
   ],
   "metadata": {}
  },
  {
   "cell_type": "code",
   "execution_count": 2,
   "source": [
    "import re\r\n",
    "replacement_patterns = [\r\n",
    "(r'won\\'t', 'will not'),\r\n",
    "end_word = 'file'\r\n",
    "x = re.search(\"^\" + start_word + \".*file$\", sentence)\r\n",
    "(r'ain\\'t', 'is not'),\r\n",
    "(r'(\\w+)\\'ll', '\\g<1> will'),\r\n",
    "(r'(\\w+)n\\'t', '\\g<1> not'),\r\n",
    "(r'(\\w+)\\'ve', '\\g<1> have'),\r\n",
    "    print(\"No match\")\r\n",
    "(r'(\\w+)\\'re', '\\g<1> are'),\r\n",
    "(r'(\\w+)\\'d', '\\g<1> would')] \r\n",
    "\r\n",
    "class RegReplacer(object):\r\n",
    "    def __init__(self, patterns=replacement_patterns):\r\n",
    "        self.patterns = [(re.compile(regex), repl) for (regex, repl)in patterns]\r\n",
    "    def replace(self, text):\r\n",
    "        s = text\r\n",
    "        for (pattern, repl) in self.patterns:\r\n",
    "            (s, count) = re.subn(pattern, repl, s)\r\n",
    "        return s \r\n",
    "\r\n",
    "replacer = RegReplacer()\r\n",
    "text=\"We'll see how to replace words using regular expressions such doesn't, can't and so on\"\r\n",
    "print(replacer.replace(text))\r\n"
   ],
   "outputs": [
    {
     "output_type": "stream",
     "name": "stdout",
     "text": [
      "We will see how to replace words using regular expressions such does not, cannot and so on\n"
     ]
    }
   ],
   "metadata": {}
  },
  {
   "cell_type": "markdown",
   "source": [
    "# Exercise 3: Get a sentence from the user. If the sentence \r\n",
    "contains any repeating characters, apply class \r\n",
    "RepeatReplacer to remove them. \r\n",
    " Enter the following sentence: \r\n",
    " Sentence = “We likkkkkke python”"
   ],
   "metadata": {}
  },
  {
   "cell_type": "code",
   "execution_count": 5,
   "source": [
    "import re\r\n",
    "class RepeatReplacer(object): \r\n",
    "    def __init__(self): \r\n",
    "        self.repeat_regexp = re.compile(r'(\\w*)(\\w)\\2(\\w*)') \r\n",
    "        self.repl = r'\\1\\2\\3'\r\n",
    "    def replace(self, word): \r\n",
    "        repl_word = self.repeat_regexp.sub(self.repl, word) \r\n",
    "        if repl_word != word: \r\n",
    "            return self.replace(repl_word) \r\n",
    "        else: \r\n",
    "            return repl_word \r\n",
    "\r\n",
    "replacer = RepeatReplacer() \r\n",
    "text = input(\"Input your text: \")\r\n",
    "replacer.replace(text)"
   ],
   "outputs": [
    {
     "output_type": "execute_result",
     "data": {
      "text/plain": [
       "'Helo'"
      ]
     },
     "metadata": {},
     "execution_count": 5
    }
   ],
   "metadata": {}
  },
  {
   "cell_type": "markdown",
   "source": [],
   "metadata": {}
  },
  {
   "cell_type": "code",
   "execution_count": null,
   "source": [],
   "outputs": [],
   "metadata": {}
  }
 ],
 "metadata": {
  "orig_nbformat": 4,
  "language_info": {
   "name": "python",
   "version": "3.9.7",
   "mimetype": "text/x-python",
   "codemirror_mode": {
    "name": "ipython",
    "version": 3
   },
   "pygments_lexer": "ipython3",
   "nbconvert_exporter": "python",
   "file_extension": ".py"
  },
  "kernelspec": {
   "name": "python3",
   "display_name": "Python 3.9.7 64-bit"
  },
  "interpreter": {
   "hash": "53b614374e0b42b979a587b50c1889e693f4da8cea65821628dc2c85a5d09888"
  }
 },
 "nbformat": 4,
 "nbformat_minor": 2
}